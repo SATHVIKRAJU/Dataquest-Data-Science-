{
 "cells": [
  {
   "cell_type": "markdown",
   "metadata": {
    "collapsed": true
   },
   "source": [
    "Define the function for reading a file!"
   ]
  },
  {
   "cell_type": "code",
   "execution_count": 6,
   "metadata": {
    "collapsed": false
   },
   "outputs": [
    {
     "name": "stdout",
     "output_type": "stream",
     "text": [
      "[[1994, 1, 1, 6, 8096], [1994, 1, 2, 7, 7772], [1994, 1, 3, 1, 10142], [1994, 1, 4, 2, 11248], [1994, 1, 5, 3, 11053], [1994, 1, 6, 4, 11406], [1994, 1, 7, 5, 11251], [1994, 1, 8, 6, 8653], [1994, 1, 9, 7, 7910], [1994, 1, 10, 1, 10498]]\n"
     ]
    }
   ],
   "source": [
    "def read_csv(file_name):\n",
    "                f=open(file_name,'r')\n",
    "                file=f.read()\n",
    "                split_file=file.split(\"\\n\")\n",
    "                string_list=split_file[1:len(split_file)]\n",
    "                final_list=[]\n",
    "                for i in string_list:\n",
    "                    int_fields=[]\n",
    "                    string_fields=i.split(\",\")\n",
    "                    for j in string_fields:\n",
    "                        int_fields.append(int(j))\n",
    "                    final_list.append(int_fields)\n",
    "                return(final_list)\n",
    "cdc_list=read_csv(\"US_births_1994-2003_CDC_NCHS.csv\")\n",
    "print(cdc_list[0:10])\n",
    "\n",
    "                    "
   ]
  },
  {
   "cell_type": "markdown",
   "metadata": {},
   "source": [
    "Create a function to calculate the number of births per month!"
   ]
  },
  {
   "cell_type": "code",
   "execution_count": 8,
   "metadata": {
    "collapsed": false
   },
   "outputs": [
    {
     "name": "stdout",
     "output_type": "stream",
     "text": [
      "{1: 3232517, 2: 3018140, 3: 3322069, 4: 3185314, 5: 3350907, 6: 3296530, 7: 3498783, 8: 3525858, 9: 3439698, 10: 3378814, 11: 3171647, 12: 3301860}\n"
     ]
    }
   ],
   "source": [
    "def month_births(mb):\n",
    "    births_per_month={}\n",
    "    for value in mb:\n",
    "        month=value[1]\n",
    "        births=value[4]\n",
    "        if month in births_per_month:\n",
    "            births_per_month[month]=births_per_month[month]+births\n",
    "        else:\n",
    "            births_per_month[month]=births\n",
    "    return(births_per_month)\n",
    "cdc_month_births=month_births(cdc_list)\n",
    "print(cdc_month_births)"
   ]
  },
  {
   "cell_type": "code",
   "execution_count": 10,
   "metadata": {
    "collapsed": false
   },
   "outputs": [
    {
     "name": "stdout",
     "output_type": "stream",
     "text": [
      "{1: 3232517, 2: 3018140, 3: 3322069, 4: 3185314, 5: 3350907, 6: 3296530, 7: 3498783, 8: 3525858, 9: 3439698, 10: 3378814, 11: 3171647, 12: 3301860}\n"
     ]
    }
   ],
   "source": [
    "def dow_births(db):\n",
    "    births_per_day_week={}\n",
    "    for value in db:\n",
    "        day=value[3]\n",
    "        births=value[4]\n",
    "        if day in births_per_day_week:\n",
    "            births_per_day_week[day]=births_per_day_week[day]+births\n",
    "        else:\n",
    "            births_per_day_week[day]=births\n",
    "    return(births_per_day_week)\n",
    "cdc_day_births=dow_births(cdc_list)\n",
    "print(cdc_month_births)\n"
   ]
  },
  {
   "cell_type": "code",
   "execution_count": null,
   "metadata": {
    "collapsed": true
   },
   "outputs": [],
   "source": [
    "def calc_counts(data,column):\n",
    "    births_per_column={}\n",
    "    for value in data:\n",
    "        day=value[column]\n",
    "        births=value[4]\n",
    "        if day in births_per_column:\n",
    "            births_per_column[day]=births_per_column[day]+births\n",
    "        else:\n",
    "            births_per_column[day]=births\n",
    "    return(births_per_column)\n",
    "cdc_year_births.\n",
    "cdc_month_births\n",
    "cdc_dom_births"
   ]
  }
 ],
 "metadata": {
  "anaconda-cloud": {},
  "kernelspec": {
   "display_name": "Python 3",
   "language": "python",
   "name": "python3"
  },
  "language_info": {
   "codemirror_mode": {
    "name": "ipython",
    "version": 3
   },
   "file_extension": ".py",
   "mimetype": "text/x-python",
   "name": "python",
   "nbconvert_exporter": "python",
   "pygments_lexer": "ipython3",
   "version": "3.6.0"
  }
 },
 "nbformat": 4,
 "nbformat_minor": 1
}
